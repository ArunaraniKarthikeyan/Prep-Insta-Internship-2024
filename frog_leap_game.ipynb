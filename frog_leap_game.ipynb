{
  "nbformat": 4,
  "nbformat_minor": 0,
  "metadata": {
    "colab": {
      "provenance": [],
      "authorship_tag": "ABX9TyONn72fhEGxQvVehA0lW8kZ",
      "include_colab_link": true
    },
    "kernelspec": {
      "name": "python3",
      "display_name": "Python 3"
    },
    "language_info": {
      "name": "python"
    }
  },
  "cells": [
    {
      "cell_type": "markdown",
      "metadata": {
        "id": "view-in-github",
        "colab_type": "text"
      },
      "source": [
        "<a href=\"https://colab.research.google.com/github/ArunaraniKarthikeyan/Prep-Insta-Internship-2024/blob/main/frog_leap_game.ipynb\" target=\"_parent\"><img src=\"https://colab.research.google.com/assets/colab-badge.svg\" alt=\"Open In Colab\"/></a>"
      ]
    },
    {
      "cell_type": "code",
      "execution_count": 1,
      "metadata": {
        "id": "t5c5LNLl5Z7r"
      },
      "outputs": [],
      "source": [
        "import random"
      ]
    },
    {
      "cell_type": "code",
      "source": [
        "def initialise_board():\n",
        "  return ['G','G','G','_','R','R','R']"
      ],
      "metadata": {
        "id": "WZwxuhMO8zEy"
      },
      "execution_count": 2,
      "outputs": []
    },
    {
      "cell_type": "code",
      "source": [
        "def display_board(board):\n",
        "  print(' '.join(board))"
      ],
      "metadata": {
        "id": "gjoNgpRX9WX6"
      },
      "execution_count": 3,
      "outputs": []
    },
    {
      "cell_type": "code",
      "source": [
        "def is_valid_move(board, position):\n",
        "  return 0 <=position< len(board) and board[position]"
      ],
      "metadata": {
        "id": "kwdbu7tJ9jbh"
      },
      "execution_count": 8,
      "outputs": []
    },
    {
      "cell_type": "code",
      "source": [
        "def make_move(board,current_position,new_position):\n",
        "  board[new_position] = board[current_position]\n",
        "  board[current_position]"
      ],
      "metadata": {
        "id": "ljeEHCh-GjJ0"
      },
      "execution_count": 10,
      "outputs": []
    },
    {
      "cell_type": "code",
      "source": [
        "def frog_leap_game():\n",
        "  board = initialise_board()\n",
        "\n",
        "  while board!=['R','R','R','_','G','G','G']:\n",
        "\n",
        "    display_board(board)\n",
        "\n",
        "    if is_valid_move(board,move_position):\n",
        "\n",
        "       make_move(board,move_position,move_position + 1)\n",
        "    else:\n",
        "       print(\"Try again. Better luck next time.\")\n",
        "\n",
        "  display_board(board)\n",
        "  print(\"You Won!\")\n",
        "\n",
        ""
      ],
      "metadata": {
        "id": "BGMY4VrTOBkS"
      },
      "execution_count": 11,
      "outputs": []
    },
    {
      "cell_type": "code",
      "source": [
        "frog_leap_game"
      ],
      "metadata": {
        "colab": {
          "base_uri": "https://localhost:8080/"
        },
        "id": "ioNOfhn4QkHZ",
        "outputId": "49b57a74-a8b4-47c3-ee02-473356da3695"
      },
      "execution_count": 12,
      "outputs": [
        {
          "output_type": "execute_result",
          "data": {
            "text/plain": [
              "<function __main__.frog_leap_game()>"
            ]
          },
          "metadata": {},
          "execution_count": 12
        }
      ]
    }
  ]
}